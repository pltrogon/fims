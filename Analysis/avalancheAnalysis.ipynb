{
 "cells": [
  {
   "cell_type": "code",
   "execution_count": null,
   "id": "0",
   "metadata": {},
   "outputs": [],
   "source": [
    "import os\n",
    "import pandas as pd\n",
    "import math\n",
    "import matplotlib.pyplot as plt\n",
    "import numpy as np\n",
    "import random\n",
    "\n",
    "from functionsFIMS import getAnalysisNumbers\n",
    "from runDataClass import runData\n",
    "from polyaClass import myPolya"
   ]
  },
  {
   "cell_type": "code",
   "execution_count": null,
   "id": "1",
   "metadata": {},
   "outputs": [],
   "source": [
    "if __name__ == '__main__':\n",
    "    runNos = getAnalysisNumbers()\n",
    "    simData = runData(runNos[0])\n",
    "    treenames = simData.getTreeNames()\n",
    "    print(treenames)\n",
    "    for name in treenames:\n",
    "        simData.printColumns(name)"
   ]
  },
  {
   "cell_type": "code",
   "execution_count": null,
   "id": "2",
   "metadata": {},
   "outputs": [],
   "source": [
    "binWidth=3\n",
    "simData.plotAvalancheSize(binWidth)\n",
    "simData.plotAvalancheFits(binWidth)"
   ]
  },
  {
   "cell_type": "code",
   "execution_count": null,
   "id": "dddd876c-e698-448f-bae6-0b58a85892e0",
   "metadata": {},
   "outputs": [],
   "source": [
    "thresh = 10\n",
    "fitPolya = myPolya(24.701, 0.488)\n",
    "efficiency = fitPolya.calcEfficiencyErrs(thresh, 0.671, 0.095)\n",
    "print(f'{efficiency[0]:.3f} (+{efficiency[1]:.3f}, {efficiency[2]:.3f})')"
   ]
  },
  {
   "cell_type": "code",
   "execution_count": null,
   "id": "3",
   "metadata": {},
   "outputs": [],
   "source": [
    "simData.plotAvalanche2D(random.randint(0, 999), plotName='Random')"
   ]
  },
  {
   "cell_type": "code",
   "execution_count": null,
   "id": "bde9a75d-6ee6-4a88-99c0-a6d16733aa13",
   "metadata": {},
   "outputs": [],
   "source": []
  },
  {
   "cell_type": "code",
   "execution_count": null,
   "id": "28da502a-1839-452b-94ad-94da99bdddcb",
   "metadata": {},
   "outputs": [],
   "source": []
  },
  {
   "cell_type": "code",
   "execution_count": null,
   "id": "22c3cd0b-d16c-49c3-aa41-9ca678da535a",
   "metadata": {},
   "outputs": [],
   "source": []
  }
 ],
 "metadata": {
  "kernelspec": {
   "display_name": "Python [conda env:base] *",
   "language": "python",
   "name": "conda-base-py"
  },
  "language_info": {
   "codemirror_mode": {
    "name": "ipython",
    "version": 3
   },
   "file_extension": ".py",
   "mimetype": "text/x-python",
   "name": "python",
   "nbconvert_exporter": "python",
   "pygments_lexer": "ipython3",
   "version": "3.10.18"
  }
 },
 "nbformat": 4,
 "nbformat_minor": 5
}
