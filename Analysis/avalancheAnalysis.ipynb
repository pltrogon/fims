{
 "cells": [
  {
   "cell_type": "code",
   "execution_count": null,
   "id": "0",
   "metadata": {},
   "outputs": [],
   "source": [
    "import os\n",
    "import pandas as pd\n",
    "import math\n",
    "import matplotlib.pyplot as plt\n",
    "import numpy as np\n",
    "import random\n",
    "\n",
    "from functionsFIMS import getAnalysisNumbers\n",
    "from runDataClass import runData\n",
    "from polyaClass import myPolya"
   ]
  },
  {
   "cell_type": "code",
   "execution_count": null,
   "id": "1",
   "metadata": {},
   "outputs": [],
   "source": [
    "if __name__ == '__main__':\n",
    "    runNos = getAnalysisNumbers()\n",
    "    simData = runData(runNos[0])\n",
    "    treenames = simData.getTreeNames()\n",
    "    print(treenames)\n",
    "    for name in treenames:\n",
    "        simData.printColumns(name)"
   ]
  },
  {
   "cell_type": "code",
   "execution_count": null,
   "id": "2",
   "metadata": {},
   "outputs": [],
   "source": [
    "if __name__ == '__main__':\n",
    "    binWidth=3\n",
    "    simData.plotAvalancheSize(binWidth)\n",
    "    simData.plotAvalancheFits(binWidth)\n",
    "\n",
    "    thresh = 10\n",
    "    fitPolya = myPolya(24.701, 0.488)\n",
    "    efficiency = fitPolya.calcEfficiencyErrs(thresh, 0.671, 0.095)\n",
    "    print(f'{efficiency[0]:.3f} (+{efficiency[1]:.3f}, {efficiency[2]:.3f})')"
   ]
  },
  {
   "cell_type": "code",
   "execution_count": null,
   "id": "3",
   "metadata": {},
   "outputs": [],
   "source": [
    "if __name__ == '__main__':\n",
    "    simData.plotAvalanche2D(random.randint(0, 999), plotName='Random')"
   ]
  },
  {
   "cell_type": "code",
   "execution_count": null,
   "id": "b18be1fb-dcd4-4d5a-a559-962b7dd51893",
   "metadata": {},
   "outputs": [],
   "source": [
    "TESTDATA = runData(1158)"
   ]
  },
  {
   "cell_type": "code",
   "execution_count": null,
   "id": "fe38cf91-ac40-4b43-a3d5-e52e8beb9906",
   "metadata": {},
   "outputs": [],
   "source": [
    "def getLargestRadius(xData, yData):\n",
    "    \"\"\"\n",
    "    TODO\n",
    "    \"\"\"\n",
    "    radius2 = xData**2 + yData**2\n",
    "    maxRadius = math.sqrt(radius2.max())\n",
    "    minRadius = math.sqrt(radius2.min())\n",
    "\n",
    "    return maxRadius, minRadius\n",
    "\n",
    "    "
   ]
  },
  {
   "cell_type": "code",
   "execution_count": null,
   "id": "ef888bb4-43c1-42b2-9274-2f81872a048a",
   "metadata": {},
   "outputs": [],
   "source": [
    "def showIonStarts(runData):\n",
    "    \"\"\"\n",
    "    TODO\n",
    "    \"\"\"\n",
    "    allIons = runData.getDataFrame('ionData')\n",
    "    posIons = allIons[allIons['Ion Charge']==1]\n",
    "    \n",
    "    bfIons = posIons[posIons['Final z']>=1]\n",
    "    capIons = posIons[posIons['Final z']<1]\n",
    "\n",
    "\n",
    "    bfMaxRad, bfMinRad = getLargestRadius(np.array(bfIons['Initial x'].values), np.array(bfIons['Initial y'].values))    \n",
    "    bfCircle = plt.Circle(\n",
    "        (0, 0), bfMaxRad, \n",
    "        facecolor='none', edgecolor='r', ls=':', lw=1, label='Backflow Region'\n",
    "    )\n",
    "    \n",
    "    capMaxRad, capMinRad = getLargestRadius(np.array(capIons['Initial x'].values), np.array(capIons['Initial y'].values))   \n",
    "    capCircle0 = plt.Circle(\n",
    "        (0, 0), capMaxRad, \n",
    "        facecolor='none', edgecolor='g', ls=':', lw=1, label='Captured Region'\n",
    "    )\n",
    "    capCircle1 = plt.Circle(\n",
    "        (0, 0), capMinRad, \n",
    "        facecolor='none', edgecolor='g', ls=':', lw=1\n",
    "    )\n",
    "\n",
    "    fig = plt.figure(figsize=(10, 10))\n",
    "    fig.suptitle('Positive Ion Initial Locations')\n",
    "    ax = fig.add_subplot(111)\n",
    "\n",
    "    ax.scatter(\n",
    "        bfIons['Initial x'], bfIons['Initial y'],\n",
    "        label='BF Ions', c='r', marker='.'\n",
    "    )\n",
    "    ax.scatter(\n",
    "        capIons['Initial x'], capIons['Initial y'],\n",
    "        label='Captured Ions', c='g', alpha=.75, marker='.'\n",
    "    )\n",
    "\n",
    "    ax.add_patch(bfCircle)\n",
    "    ax.add_patch(capCircle0)\n",
    "    ax.add_patch(capCircle1)\n",
    "    \n",
    "    \n",
    "    runData._plotAddCellGeometry(ax, 'xy')\n",
    "\n",
    "    axLim = runData.getRunParameter('Pad Length')\n",
    "    ax.set_xlim(-axLim, axLim)\n",
    "    ax.set_ylim(-axLim, axLim)\n",
    "    ax.legend()\n",
    "\n",
    "    return fig\n",
    "\n",
    "_ = showIonStarts(TESTDATA)"
   ]
  },
  {
   "cell_type": "code",
   "execution_count": null,
   "id": "96525c23-2c66-4208-95b1-01d0efb1d649",
   "metadata": {},
   "outputs": [],
   "source": []
  },
  {
   "cell_type": "code",
   "execution_count": null,
   "id": "085725d1-d3a4-46b1-8310-cf02e0f644a5",
   "metadata": {},
   "outputs": [],
   "source": []
  },
  {
   "cell_type": "code",
   "execution_count": null,
   "id": "8bd0a862-8948-4949-a3ff-0f81db31c79b",
   "metadata": {},
   "outputs": [],
   "source": []
  }
 ],
 "metadata": {
  "kernelspec": {
   "display_name": "Python 3 (ipykernel)",
   "language": "python",
   "name": "python3"
  },
  "language_info": {
   "codemirror_mode": {
    "name": "ipython",
    "version": 3
   },
   "file_extension": ".py",
   "mimetype": "text/x-python",
   "name": "python",
   "nbconvert_exporter": "python",
   "pygments_lexer": "ipython3",
   "version": "3.13.7"
  }
 },
 "nbformat": 4,
 "nbformat_minor": 5
}
