{
 "cells": [
  {
   "cell_type": "code",
   "execution_count": null,
   "id": "0",
   "metadata": {},
   "outputs": [],
   "source": [
    "import os\n",
    "import pandas as pd\n",
    "import math\n",
    "import matplotlib.pyplot as plt\n",
    "import numpy as np\n",
    "import random\n",
    "\n",
    "from functionsFIMS import getAnalysisNumbers\n",
    "from runDataClass import runData\n",
    "from polyaClass import myPolya"
   ]
  },
  {
   "cell_type": "code",
   "execution_count": null,
   "id": "1",
   "metadata": {},
   "outputs": [],
   "source": [
    "if __name__ == '__main__':\n",
    "    runNos = getAnalysisNumbers()\n",
    "    simData = runData(runNos[0])\n",
    "    treenames = simData.getTreeNames()\n",
    "    print(treenames)\n",
    "    for name in treenames:\n",
    "        simData.printColumns(name)"
   ]
  },
  {
   "cell_type": "code",
   "execution_count": null,
   "id": "2",
   "metadata": {},
   "outputs": [],
   "source": [
    "if __name__ == '__main__':\n",
    "    binWidth=3\n",
    "    simData.plotAvalancheSize(binWidth)\n",
    "    simData.plotAvalancheFits(binWidth)\n",
    "\n",
    "    thresh = 10\n",
    "    fitPolya = myPolya(24.701, 0.488)\n",
    "    efficiency = fitPolya.calcEfficiencyErrs(thresh, 0.671, 0.095)\n",
    "    print(f'{efficiency[0]:.3f} (+{efficiency[1]:.3f}, {efficiency[2]:.3f})')"
   ]
  },
  {
   "cell_type": "code",
   "execution_count": null,
   "id": "3",
   "metadata": {},
   "outputs": [],
   "source": [
    "if __name__ == '__main__':\n",
    "    simData.plotAvalanche2D(random.randint(0, 999), plotName='Random')"
   ]
  },
  {
   "cell_type": "code",
   "execution_count": null,
   "id": "b18be1fb-dcd4-4d5a-a559-962b7dd51893",
   "metadata": {},
   "outputs": [],
   "source": [
    "TESTDATA = runData(1143)"
   ]
  },
  {
   "cell_type": "code",
   "execution_count": null,
   "id": "a5da7778-1d12-4446-823e-dea7157cd386",
   "metadata": {},
   "outputs": [],
   "source": [
    "def plotAvalancheSignal(runData, avalancheID=0):\n",
    "    \"\"\"\n",
    "    \"\"\"\n",
    "\n",
    "    allData = runData.getDataFrame('signalData')\n",
    "    singleData = allData[allData['Avalanche ID']==avalancheID]\n",
    "    \n",
    "    gain = runData._getAvalancheGain(avalancheID)\n",
    "    \n",
    "    if singleData is None:\n",
    "        print(f\"An error occured plotting ID='{avalancheID}'.\")\n",
    "        return\n",
    "\n",
    "    totalCharge = singleData['Signal Strength'].sum()\n",
    "\n",
    "    # Create figure\n",
    "    fig = plt.figure()\n",
    "    fig.suptitle(f'Induced Signal from Avalanche: {avalancheID} (Gain={gain}, Total Charge={totalCharge:.3f})')\n",
    "    ax = fig.add_subplot(111)\n",
    "    \n",
    "    ax.plot(\n",
    "        singleData['Signal Time'], singleData['Signal Strength']\n",
    "    )\n",
    "\n",
    "    ax.set_xlabel('Time (ns)')\n",
    "    ax.set_ylabel('Signal Strength (C/ns)')#TODO - The units here seem weird\n",
    "\n",
    "    plt.grid()\n",
    "\n",
    "    plt.tight_layout()   \n",
    "    \n",
    "    return fig"
   ]
  },
  {
   "cell_type": "code",
   "execution_count": null,
   "id": "670a49b4-0d68-4b79-b67a-f6c82b03c0d2",
   "metadata": {},
   "outputs": [],
   "source": [
    "_ = plotAvalancheSignal(TESTDATA, avalancheID=10)"
   ]
  }
 ],
 "metadata": {
  "kernelspec": {
   "display_name": "Python 3 (ipykernel)",
   "language": "python",
   "name": "python3"
  },
  "language_info": {
   "codemirror_mode": {
    "name": "ipython",
    "version": 3
   },
   "file_extension": ".py",
   "mimetype": "text/x-python",
   "name": "python",
   "nbconvert_exporter": "python",
   "pygments_lexer": "ipython3",
   "version": "3.13.7"
  }
 },
 "nbformat": 4,
 "nbformat_minor": 5
}
