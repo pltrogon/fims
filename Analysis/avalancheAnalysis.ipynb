{
 "cells": [
  {
   "cell_type": "code",
   "execution_count": null,
   "id": "0",
   "metadata": {},
   "outputs": [],
   "source": [
    "import os\n",
    "import pandas as pd\n",
    "import math\n",
    "import matplotlib.pyplot as plt\n",
    "import numpy as np\n",
    "\n",
    "from functionsFIMS import getAnalysisNumbers\n",
    "from runDataClass import runData\n",
    "from polyaClass import myPolya"
   ]
  },
  {
   "cell_type": "code",
   "execution_count": null,
   "id": "1",
   "metadata": {},
   "outputs": [],
   "source": [
    "if __name__ == '__main__':\n",
    "    runNos = getAnalysisNumbers()\n",
    "    simData = runData(runNos[0])\n",
    "    treenames = simData.getTreeNames()\n",
    "    print(treenames)\n",
    "    for name in treenames:\n",
    "        simData.printColumns(name)"
   ]
  },
  {
   "cell_type": "code",
   "execution_count": null,
   "id": "2",
   "metadata": {},
   "outputs": [],
   "source": [
    "binWidth=3\n",
    "simData.plotAvalancheSize(binWidth)\n",
    "simData.plotAvalancheFits(binWidth)"
   ]
  },
  {
   "cell_type": "code",
   "execution_count": null,
   "id": "dddd876c-e698-448f-bae6-0b58a85892e0",
   "metadata": {},
   "outputs": [],
   "source": [
    "thresh = 10\n",
    "fitPolya = myPolya(24.701, 0.488)\n",
    "efficiency = fitPolya.calcEfficiencyErrs(thresh, 0.671, 0.095)\n",
    "print(f'{efficiency[0]:.3f} (+{efficiency[1]:.3f}, {efficiency[2]:.3f})')"
   ]
  },
  {
   "cell_type": "code",
   "execution_count": null,
   "id": "3",
   "metadata": {},
   "outputs": [],
   "source": [
    "simData.plotAvalanche2D(plotName='TEST')"
   ]
  },
  {
   "cell_type": "code",
   "execution_count": null,
   "id": "e6742c95-ce23-448b-9787-8051036cc4db",
   "metadata": {},
   "outputs": [],
   "source": [
    "def calcIBF(simData):\n",
    "    \"\"\"\n",
    "    \"\"\"\n",
    "    allIons = simData.getDataFrame('ionData')\n",
    "    posIons = allIons[allIons['Ion Charge'] == 1]\n",
    "    cathIons = posIons[posIons['Final z'] > simData.getRunParameter('Grid Thickness')]\n",
    "\n",
    "    numCathode = len(cathIons)\n",
    "    numAvalanche = simData.getRunParameter('Number of Avalanches')\n",
    "    \n",
    "    IBF = numCathode/numAvalanche\n",
    "\n",
    "    print(len(posIons) - len(cathIons))\n",
    "    print(f'IBF = {IBF}')\n",
    "    return IBF\n",
    "\n",
    "calcIBF(simData)\n",
    "    "
   ]
  }
 ],
 "metadata": {
  "kernelspec": {
   "display_name": "Python [conda env:base] *",
   "language": "python",
   "name": "conda-base-py"
  },
  "language_info": {
   "codemirror_mode": {
    "name": "ipython",
    "version": 3
   },
   "file_extension": ".py",
   "mimetype": "text/x-python",
   "name": "python",
   "nbconvert_exporter": "python",
   "pygments_lexer": "ipython3",
   "version": "3.12.7"
  }
 },
 "nbformat": 4,
 "nbformat_minor": 5
}
