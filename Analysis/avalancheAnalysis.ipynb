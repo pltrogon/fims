{
 "cells": [
  {
   "cell_type": "code",
   "execution_count": null,
   "id": "0",
   "metadata": {},
   "outputs": [],
   "source": [
    "import os\n",
    "import pandas as pd\n",
    "import math\n",
    "import matplotlib.pyplot as plt\n",
    "import numpy as np\n",
    "import random\n",
    "\n",
    "from functionsFIMS import getAnalysisNumbers\n",
    "from runDataClass import runData\n",
    "from polyaClass import myPolya"
   ]
  },
  {
   "cell_type": "code",
   "execution_count": null,
   "id": "1",
   "metadata": {},
   "outputs": [],
   "source": [
    "if __name__ == '__main__':\n",
    "    runNos = getAnalysisNumbers()\n",
    "    simData = runData(runNos[0])\n",
    "    treenames = simData.getTreeNames()\n",
    "    print(treenames)\n",
    "    for name in treenames:\n",
    "        simData.printColumns(name)"
   ]
  },
  {
   "cell_type": "code",
   "execution_count": null,
   "id": "2",
   "metadata": {},
   "outputs": [],
   "source": [
    "if __name__ == '__main__':\n",
    "    binWidth=3\n",
    "    simData.plotAvalancheSize(binWidth)\n",
    "    simData.plotAvalancheFits(binWidth)\n",
    "\n",
    "    thresh = 10\n",
    "    fitPolya = myPolya(24.701, 0.488)\n",
    "    efficiency = fitPolya.calcEfficiencyErrs(thresh, 0.671, 0.095)\n",
    "    print(f'{efficiency[0]:.3f} (+{efficiency[1]:.3f}, {efficiency[2]:.3f})')"
   ]
  },
  {
   "cell_type": "code",
   "execution_count": null,
   "id": "3",
   "metadata": {},
   "outputs": [],
   "source": [
    "if __name__ == '__main__':\n",
    "    simData.plotAvalanche2D(random.randint(0, 999), plotName='Random')"
   ]
  },
  {
   "cell_type": "code",
   "execution_count": null,
   "id": "90d9d2ac-e639-4a45-aa13-b961ad2b23fa",
   "metadata": {},
   "outputs": [],
   "source": []
  },
  {
   "cell_type": "code",
   "execution_count": null,
   "id": "8af81573-2e13-4066-a230-d041c757cccb",
   "metadata": {},
   "outputs": [],
   "source": []
  },
  {
   "cell_type": "code",
   "execution_count": null,
   "id": "ddddb881-6dae-45a9-b22e-1ac078152e61",
   "metadata": {},
   "outputs": [],
   "source": [
    "allIons = simData.getDataFrame('ionData')\n",
    "posIons = allIons[allIons['Ion Charge'] == 1]\n",
    "\n",
    "gridThick = simData.getRunParameter('Grid Thickness')\n",
    "atGrid = posIons[posIons['Final z'] <= gridThick]\n",
    "atCathode = posIons[posIons['Final z'] > gridThick]\n",
    "\n",
    "numAtGrid = atGrid.groupby(posIons['Avalanche ID']).size()\n",
    "numAtCathode = atCathode.groupby(posIons['Avalanche ID']).size()\n",
    "\n",
    "numTotal = numAtCathode.add(numAtGrid, fill_value=0)\n",
    "\n",
    "IBF = numAtCathode.div(numTotal, fill_value=0)\n",
    "\n",
    "print(IBF)\n",
    "print(IBF.min())\n",
    "print(IBF.idxmin())\n",
    "print(IBF.mean())\n",
    "print(IBF.mean()*simData.getRunParameter('Raw Gain'))"
   ]
  },
  {
   "cell_type": "code",
   "execution_count": null,
   "id": "9fb29ea5-60d6-42cd-9022-eda00a14b0ac",
   "metadata": {},
   "outputs": [],
   "source": [
    "print(simData)"
   ]
  },
  {
   "cell_type": "code",
   "execution_count": null,
   "id": "6dd7932e-2bae-48ca-b3a1-791723747140",
   "metadata": {},
   "outputs": [],
   "source": [
    "avalancheData = simData.getDataFrame('avalancheData')"
   ]
  },
  {
   "cell_type": "code",
   "execution_count": null,
   "id": "c1cd062b-82bd-4915-9289-8a924bf58320",
   "metadata": {},
   "outputs": [],
   "source": [
    "print(avalancheData.head())"
   ]
  },
  {
   "cell_type": "code",
   "execution_count": null,
   "id": "da800b76-850c-4d88-8591-d941f0f22cf6",
   "metadata": {},
   "outputs": [],
   "source": [
    "print(simData)"
   ]
  },
  {
   "cell_type": "code",
   "execution_count": null,
   "id": "45066761-22b6-4897-98a1-037c4666834c",
   "metadata": {},
   "outputs": [],
   "source": [
    "test = simData._fitAvalancheSize(binWidth=1)\n",
    "testResults = test['fitPolya'].calcPolya(test['xVal'])\n",
    "print(testResults)"
   ]
  },
  {
   "cell_type": "code",
   "execution_count": null,
   "id": "c933ddb2-2288-47e2-935f-fb747661f8ed",
   "metadata": {},
   "outputs": [],
   "source": [
    "data = test['yVal']\n",
    "fit = testResults"
   ]
  },
  {
   "cell_type": "code",
   "execution_count": null,
   "id": "e969e2cd-ccec-413d-84c9-540660b68e37",
   "metadata": {},
   "outputs": [],
   "source": [
    "calc = (data - fit)**2 / fit\n",
    "chi2 = calc.sum()\n",
    "reducedChi2 = chi2/len(data)"
   ]
  },
  {
   "cell_type": "code",
   "execution_count": null,
   "id": "73d46840-8a4f-45a5-8655-ded7ba845308",
   "metadata": {},
   "outputs": [],
   "source": [
    "print(calc)"
   ]
  },
  {
   "cell_type": "code",
   "execution_count": null,
   "id": "928b847c-54e0-489e-96ba-a4692b60b866",
   "metadata": {},
   "outputs": [],
   "source": [
    "print(chi2)\n",
    "print(reducedChi2)"
   ]
  },
  {
   "cell_type": "code",
   "execution_count": null,
   "id": "32222b0a-c9df-4758-8635-f8642d703797",
   "metadata": {},
   "outputs": [],
   "source": []
  }
 ],
 "metadata": {
  "kernelspec": {
   "display_name": "Python 3 (ipykernel)",
   "language": "python",
   "name": "python3"
  },
  "language_info": {
   "codemirror_mode": {
    "name": "ipython",
    "version": 3
   },
   "file_extension": ".py",
   "mimetype": "text/x-python",
   "name": "python",
   "nbconvert_exporter": "python",
   "pygments_lexer": "ipython3",
   "version": "3.13.5"
  }
 },
 "nbformat": 4,
 "nbformat_minor": 5
}
