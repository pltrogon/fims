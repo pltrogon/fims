{
 "cells": [
  {
   "cell_type": "code",
   "execution_count": null,
   "id": "0",
   "metadata": {},
   "outputs": [],
   "source": [
    "import os\n",
    "import pandas as pd\n",
    "import math\n",
    "import matplotlib.pyplot as plt\n",
    "import numpy as np\n",
    "import random\n",
    "\n",
    "from functionsFIMS import getAnalysisNumbers\n",
    "from runDataClass import runData\n",
    "from polyaClass import myPolya"
   ]
  },
  {
   "cell_type": "code",
   "execution_count": null,
   "id": "1",
   "metadata": {},
   "outputs": [],
   "source": [
    "if __name__ == '__main__':\n",
    "    runNos = getAnalysisNumbers()\n",
    "    simData = runData(runNos[0])\n",
    "    treenames = simData.getTreeNames()\n",
    "    print(treenames)\n",
    "    for name in treenames:\n",
    "        simData.printColumns(name)"
   ]
  },
  {
   "cell_type": "code",
   "execution_count": null,
   "id": "2",
   "metadata": {},
   "outputs": [],
   "source": [
    "if __name__ == '__main__':\n",
    "    binWidth=3\n",
    "    simData.plotAvalancheSize(binWidth)\n",
    "    simData.plotAvalancheFits(binWidth)\n",
    "\n",
    "    thresh = 10\n",
    "    fitPolya = myPolya(24.701, 0.488)\n",
    "    efficiency = fitPolya.calcEfficiencyErrs(thresh, 0.671, 0.095)\n",
    "    print(f'{efficiency[0]:.3f} (+{efficiency[1]:.3f}, {efficiency[2]:.3f})')"
   ]
  },
  {
   "cell_type": "code",
   "execution_count": null,
   "id": "3",
   "metadata": {},
   "outputs": [],
   "source": [
    "if __name__ == '__main__':\n",
    "    simData.plotAvalanche2D(random.randint(0, 999), plotName='Random')"
   ]
  },
  {
   "cell_type": "code",
   "execution_count": null,
   "id": "b18be1fb-dcd4-4d5a-a559-962b7dd51893",
   "metadata": {},
   "outputs": [],
   "source": [
    "TESTDATA = runData(1145)"
   ]
  },
  {
   "cell_type": "code",
   "execution_count": null,
   "id": "670a49b4-0d68-4b79-b67a-f6c82b03c0d2",
   "metadata": {},
   "outputs": [],
   "source": [
    "_ = TESTDATA.plotAvalancheSignal(avalancheID=random.randint(0, 999))\n",
    "_ = TESTDATA.plotAverageSignal()"
   ]
  },
  {
   "cell_type": "code",
   "execution_count": null,
   "id": "17a86460-c80a-4989-891a-b772dd17c60d",
   "metadata": {},
   "outputs": [],
   "source": [
    "_ = TESTDATA.plotSignalvsGain()"
   ]
  },
  {
   "cell_type": "code",
   "execution_count": null,
   "id": "ef888bb4-43c1-42b2-9274-2f81872a048a",
   "metadata": {},
   "outputs": [],
   "source": [
    "def showIonStarts(runData):\n",
    "    \"\"\"\n",
    "    TODO\n",
    "    \"\"\"\n",
    "    allIons = runData.getDataFrame('ionData')\n",
    "    posIons = allIons[allIons['Ion Charge']==1]\n",
    "    \n",
    "    bfIons = posIons[posIons['Final z']>=1]\n",
    "    capIons = posIons[posIons['Final z']<1]\n",
    "\n",
    "    fig = plt.figure(figsize=(10, 10))\n",
    "    fig.suptitle('Positive Ion Initial Locations')\n",
    "    ax = fig.add_subplot(111)\n",
    "\n",
    "\n",
    "    ax.scatter(\n",
    "        bfIons['Initial x'], bfIons['Initial y'],\n",
    "        label='BF Ions', c='r', marker='.'\n",
    "    )\n",
    "    ax.scatter(\n",
    "        capIons['Initial x'], capIons['Initial y'],\n",
    "        label='Captured Ions', c='g', alpha=.75, marker='.'\n",
    "    )\n",
    "    \n",
    "    runData._plotAddCellGeometry(ax, 'xy')\n",
    "\n",
    "    axLim = runData.getRunParameter('Pad Length')\n",
    "    ax.set_xlim(-axLim, axLim)\n",
    "    ax.set_ylim(-axLim, axLim)\n",
    "    ax.legend()\n",
    "\n",
    "    return fig\n",
    "\n",
    "_ = showIonStarts(TESTDATA)"
   ]
  },
  {
   "cell_type": "code",
   "execution_count": null,
   "id": "085725d1-d3a4-46b1-8310-cf02e0f644a5",
   "metadata": {},
   "outputs": [],
   "source": []
  },
  {
   "cell_type": "code",
   "execution_count": null,
   "id": "8bd0a862-8948-4949-a3ff-0f81db31c79b",
   "metadata": {},
   "outputs": [],
   "source": []
  }
 ],
 "metadata": {
  "kernelspec": {
   "display_name": "Python 3 (ipykernel)",
   "language": "python",
   "name": "python3"
  },
  "language_info": {
   "codemirror_mode": {
    "name": "ipython",
    "version": 3
   },
   "file_extension": ".py",
   "mimetype": "text/x-python",
   "name": "python",
   "nbconvert_exporter": "python",
   "pygments_lexer": "ipython3",
   "version": "3.13.7"
  }
 },
 "nbformat": 4,
 "nbformat_minor": 5
}
