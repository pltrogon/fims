{
 "cells": [
  {
   "cell_type": "code",
   "execution_count": null,
   "id": "0",
   "metadata": {},
   "outputs": [],
   "source": [
    "import pandas as pd\n",
    "import math\n",
    "import matplotlib.pyplot as plt\n",
    "import numpy as np\n",
    "import os\n",
    "\n",
    "from scipy.optimize import curve_fit\n",
    "\n",
    "from functionsFIMS import getAnalysisNumbers, plotPolyExamples\n",
    "from runDataClass import runData\n",
    "from polyaClass import myPolya"
   ]
  },
  {
   "cell_type": "code",
   "execution_count": null,
   "id": "1",
   "metadata": {},
   "outputs": [],
   "source": [
    "if __name__ == '__main__':\n",
    "    runNos = getAnalysisNumbers()\n",
    "    simData = runData(1173)\n",
    "    treenames = simData.getTreeNames()\n",
    "    print(treenames)\n",
    "    for name in treenames:\n",
    "        simData.printColumns(name)"
   ]
  },
  {
   "cell_type": "code",
   "execution_count": null,
   "id": "2",
   "metadata": {},
   "outputs": [],
   "source": [
    "if __name__ == '__main__':\n",
    "    simData.plot2DFieldLines('Cathode')\n",
    "    simData.plotAllFieldLines()"
   ]
  },
  {
   "cell_type": "code",
   "execution_count": null,
   "id": "49775a0b-989b-4d98-b1a2-37bee502b68b",
   "metadata": {},
   "outputs": [],
   "source": [
    "test = simData.getDataFrame('metaData')"
   ]
  },
  {
   "cell_type": "code",
   "execution_count": null,
   "id": "56aa2c7e-ee30-45e4-8a2f-3479795485f3",
   "metadata": {},
   "outputs": [],
   "source": [
    "print(test)"
   ]
  },
  {
   "cell_type": "code",
   "execution_count": null,
   "id": "befaf259-866b-4ea8-85b3-741edefc0801",
   "metadata": {},
   "outputs": [],
   "source": [
    "plotPolyExamples()"
   ]
  },
  {
   "cell_type": "code",
   "execution_count": null,
   "id": "1ffa5d9d-cbd1-4126-8640-5b519152da17",
   "metadata": {},
   "outputs": [],
   "source": []
  },
  {
   "cell_type": "code",
   "execution_count": null,
   "id": "5197f317-44de-498c-b9ba-bc2aab41531f",
   "metadata": {},
   "outputs": [],
   "source": [
    "testPolya = myPolya(gain=60, theta=0.5)\n",
    "testPolya.solveForGain(targetEff=.92, threshold=10)\n",
    "print(testPolya.gain)"
   ]
  },
  {
   "cell_type": "code",
   "execution_count": null,
   "id": "88ea7f1a-2686-4e49-b7e7-480f35885193",
   "metadata": {},
   "outputs": [],
   "source": []
  }
 ],
 "metadata": {
  "kernelspec": {
   "display_name": "Python 3 (ipykernel)",
   "language": "python",
   "name": "python3"
  },
  "language_info": {
   "codemirror_mode": {
    "name": "ipython",
    "version": 3
   },
   "file_extension": ".py",
   "mimetype": "text/x-python",
   "name": "python",
   "nbconvert_exporter": "python",
   "pygments_lexer": "ipython3",
   "version": "3.13.7"
  }
 },
 "nbformat": 4,
 "nbformat_minor": 5
}
