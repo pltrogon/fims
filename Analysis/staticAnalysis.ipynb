{
 "cells": [
  {
   "cell_type": "code",
   "execution_count": null,
   "id": "0",
   "metadata": {},
   "outputs": [],
   "source": [
    "import pandas as pd\n",
    "import math\n",
    "import matplotlib.pyplot as plt\n",
    "import numpy as np\n",
    "\n",
    "from functionsFIMS import getAnalysisNumbers, plotPolyExamples\n",
    "from runDataClass import runData\n",
    "from polyaClass import myPolya"
   ]
  },
  {
   "cell_type": "code",
   "execution_count": null,
   "id": "1",
   "metadata": {},
   "outputs": [],
   "source": [
    "if __name__ == '__main__':\n",
    "    runNos = getAnalysisNumbers()\n",
    "    simData = runData(runNos[0])\n",
    "    treenames = simData.getTreeNames()\n",
    "    print(treenames)\n",
    "    for name in treenames:\n",
    "        simData.printColumns(name)\n",
    "    \n",
    "    simData.plotCellGeometry()"
   ]
  },
  {
   "cell_type": "code",
   "execution_count": null,
   "id": "2",
   "metadata": {},
   "outputs": [],
   "source": [
    "simData.plot2DFieldLines('Cathode')"
   ]
  },
  {
   "cell_type": "code",
   "execution_count": null,
   "id": "b3991200-ae89-491b-8192-d171ac34e1c3",
   "metadata": {},
   "outputs": [],
   "source": []
  }
 ],
 "metadata": {
  "kernelspec": {
   "display_name": "Python [conda env:base] *",
   "language": "python",
   "name": "conda-base-py"
  },
  "language_info": {
   "codemirror_mode": {
    "name": "ipython",
    "version": 3
   },
   "file_extension": ".py",
   "mimetype": "text/x-python",
   "name": "python",
   "nbconvert_exporter": "python",
   "pygments_lexer": "ipython3",
   "version": "3.12.7"
  }
 },
 "nbformat": 4,
 "nbformat_minor": 5
}
